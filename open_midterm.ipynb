{
  "nbformat": 4,
  "nbformat_minor": 0,
  "metadata": {
    "colab": {
      "provenance": [],
      "authorship_tag": "ABX9TyNEcKAQ4pvxXk1VMA5GLCZC",
      "include_colab_link": true
    },
    "kernelspec": {
      "name": "python3",
      "display_name": "Python 3"
    },
    "language_info": {
      "name": "python"
    }
  },
  "cells": [
    {
      "cell_type": "markdown",
      "metadata": {
        "id": "view-in-github",
        "colab_type": "text"
      },
      "source": [
        "<a href=\"https://colab.research.google.com/github/Aling16/open_platform_software/blob/main/open_midterm.ipynb\" target=\"_parent\"><img src=\"https://colab.research.google.com/assets/colab-badge.svg\" alt=\"Open In Colab\"/></a>"
      ]
    },
    {
      "cell_type": "code",
      "execution_count": null,
      "metadata": {
        "colab": {
          "base_uri": "https://localhost:8080/"
        },
        "id": "Z4LRO-e2OhBD",
        "outputId": "dac975ca-6781-4d7d-c1bd-e162a0337037"
      },
      "outputs": [
        {
          "output_type": "stream",
          "name": "stdout",
          "text": [
            "✅ 匯率資料已成功輸出到 static.json 和 static.csv\n"
          ]
        }
      ],
      "source": [
        "#static.py\n",
        "\n",
        "import requests\n",
        "from bs4 import BeautifulSoup\n",
        "import json\n",
        "import csv\n",
        "\n",
        "# 目標網址（台灣銀行匯率）\n",
        "url = \"https://rate.bot.com.tw/xrt?Lang=zh-TW\"\n",
        "headers = {\"User-Agent\": \"Mozilla/5.0\"}\n",
        "\n",
        "# 發送請求\n",
        "response = requests.get(url, headers=headers)\n",
        "soup = BeautifulSoup(response.text, \"html.parser\")\n",
        "\n",
        "# 抓取所有幣別的資料列\n",
        "rows = soup.select(\"table.table tbody tr\")\n",
        "\n",
        "data = []\n",
        "\n",
        "for row in rows:\n",
        "    # 幣別（含幣名與代碼）\n",
        "    currency_info = row.select_one(\"div.visible-phone.print_hide\").get_text(strip=True)\n",
        "    currency_name, currency_code = currency_info.split(\" \")\n",
        "\n",
        "    # 匯率資料\n",
        "    cash_buy = row.select(\"td\")[1].text.strip()\n",
        "    cash_sell = row.select(\"td\")[2].text.strip()\n",
        "    spot_buy = row.select(\"td\")[3].text.strip()\n",
        "    spot_sell = row.select(\"td\")[4].text.strip()\n",
        "\n",
        "    data.append({\n",
        "        \"幣別名稱\": currency_name,\n",
        "        \"幣別代碼\": currency_code,\n",
        "        \"現金買入\": cash_buy,\n",
        "        \"現金賣出\": cash_sell,\n",
        "        \"即期買入\": spot_buy,\n",
        "        \"即期賣出\": spot_sell\n",
        "    })\n",
        "\n",
        "# 輸出為 JSON\n",
        "with open(\"static.json\", \"w\", encoding=\"utf-8\") as f:\n",
        "    json.dump(data, f, ensure_ascii=False, indent=2)\n",
        "\n",
        "# 輸出為 CSV\n",
        "with open(\"static.csv\", \"w\", newline=\"\", encoding=\"utf-8-sig\") as f:\n",
        "    writer = csv.DictWriter(f, fieldnames=[\"幣別名稱\", \"幣別代碼\", \"現金買入\", \"現金賣出\", \"即期買入\", \"即期賣出\"])\n",
        "    writer.writeheader()\n",
        "    writer.writerows(data)\n",
        "\n",
        "print(\"✅ 匯率資料已成功輸出到 static.json 和 static.csv\")\n",
        "\n"
      ]
    },
    {
      "cell_type": "code",
      "source": [
        "#api.py\n",
        "\n",
        "\n",
        "import requests\n",
        "import csv\n",
        "\n",
        "# 1. 目標 API\n",
        "url = \"https://holidays-jp.github.io/api/v1/date.json\"\n",
        "\n",
        "# 2. 發送 GET 請求取得 JSON\n",
        "response = requests.get(url, timeout=10)\n",
        "holidays = response.json()  # 取得回傳的 dict：{日期: 節日名稱}\n",
        "\n",
        "# 3. 整理為列表（每筆是字典）\n",
        "holiday_list = []\n",
        "for date, name in holidays.items():\n",
        "    holiday_list.append({\n",
        "        \"日期\": date,\n",
        "        \"節日名稱\": name\n",
        "    })\n",
        "\n",
        "# 4. 輸出為 CSV 檔案\n",
        "with open(\"api.csv\", \"w\", newline=\"\", encoding=\"utf-8-sig\") as f:\n",
        "    writer = csv.DictWriter(f, fieldnames=[\"日期\", \"節日名稱\"])\n",
        "    writer.writeheader()\n",
        "    writer.writerows(holiday_list)\n",
        "\n",
        "print(\"✅ 日本國定假日資料已成功寫入 api.csv\")\n"
      ],
      "metadata": {
        "colab": {
          "base_uri": "https://localhost:8080/"
        },
        "id": "dk9l5zt-6G_M",
        "outputId": "4090919d-91c5-4cce-a33e-eebdab59603b"
      },
      "execution_count": null,
      "outputs": [
        {
          "output_type": "stream",
          "name": "stdout",
          "text": [
            "✅ 日本國定假日資料已成功寫入 api.csv\n"
          ]
        }
      ]
    }
  ]
}